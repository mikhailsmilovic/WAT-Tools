{
 "cells": [
  {
   "cell_type": "code",
   "execution_count": 4,
   "id": "77a37863-8694-4584-a05e-b567475e45ca",
   "metadata": {},
   "outputs": [],
   "source": [
    "import netCDF4 as nc\n",
    "fn = '/Users/admin/Desktop/ETH/Discharge_comparison/pcrglobwb_dynqual_cmip6-isimip3-w5e5_historical-reference_discharge_zambezi_daily_1980_2019_basetier1_EDIT.nc'\n",
    "ds = nc.Dataset(fn, 'a')"
   ]
  },
  {
   "cell_type": "code",
   "execution_count": 10,
   "id": "3554fda6-2698-48c7-baa6-e6be8e394332",
   "metadata": {},
   "outputs": [
    {
     "data": {
      "text/plain": [
       "<class 'netCDF4._netCDF4.Dataset'>\n",
       "root group (NETCDF4 data model, file format HDF5):\n",
       "    CDI: Climate Data Interface version 1.9.8 (https://mpimet.mpg.de/cdi)\n",
       "    Conventions: CF-1.6\n",
       "    history: Thu Mar 28 11:41:39 2024: cdo -L -f nc4 -div pcrglobwb_dynqual_cmip6-isimip3-w5e5_historical-reference_discharge_zambezi_daily_1980_2019_basetier1.nc.unmasked basin_pgb_invertlat.nc pcrglobwb_dynqual_cmip6-isimip3-w5e5_historical-reference_discharge_zambezi_daily_1980_2019_basetier1.nc\n",
       "Thu Mar 28 11:05:10 2024: cdo -L -f nc4 -selyear,1981/2019 -sellonlatbox,18,36,-21,-9 -setday,15 -settime,00:00:00 /scratch/depfg/sutan101/dynqual_output_from_duncan/1980-2019//discharge_dailyTot_output_1980-2019.nc pcrglobwb_dynqual_cmip6-isimip3-w5e5_historical-reference_discharge_zambezi_daily_1980_2019_basetier1.nc.unmasked\n",
       "Wed Mar 27 00:21:41 2024: cdo -L -f nc4 -z zip -setgrid,griddes_clone_global_05min.txt -mergetime 1980/discharge_dailyTot_output_1980-01-01_to_1980-12-31.nc 1981/discharge_dailyTot_output_1981-01-01_to_1981-12-31.nc 1982/discharge_dailyTot_output_1982-01-01_to_1982-12-31.nc 1983/discharge_dailyTot_output_1983-01-01_to_1983-12-31.nc 1984/discharge_dailyTot_output_1984-01-01_to_1984-12-31.nc 1985/discharge_dailyTot_output_1985-01-01_to_1985-12-31.nc 1986/discharge_dailyTot_output_1986-01-01_to_1986-12-31.nc 1987/discharge_dailyTot_output_1987-01-01_to_1987-12-31.nc 1988/discharge_dailyTot_output_1988-01-01_to_1988-12-31.nc 1989/discharge_dailyTot_output_1989-01-01_to_1989-12-31.nc 1990/discharge_dailyTot_output_1990-01-01_to_1990-12-31.nc 1991/discharge_dailyTot_output_1991-01-01_to_1991-12-31.nc 1992/discharge_dailyTot_output_1992-01-01_to_1992-12-31.nc 1993/discharge_dailyTot_output_1993-01-01_to_1993-12-31.nc 1994/discharge_dailyTot_output_1994-01-01_to_1994-12-31.nc 1995/discharge_dailyTot_output_1995-01-01_to_1995-12-31.nc 1996/discharge_dailyTot_output_1996-01-01_to_1996-12-31.nc 1997/discharge_dailyTot_output_1997-01-01_to_1997-12-31.nc 1998/discharge_dailyTot_output_1998-01-01_to_1998-12-31.nc 1999/discharge_dailyTot_output_1999-01-01_to_1999-12-31.nc 2000/discharge_dailyTot_output_2000-01-01_to_2000-12-31.nc 2001/discharge_dailyTot_output_2001-01-01_to_2001-12-31.nc 2002/discharge_dailyTot_output_2002-01-01_to_2002-12-31.nc 2003/discharge_dailyTot_output_2003-01-01_to_2003-12-31.nc 2004/discharge_dailyTot_output_2004-01-01_to_2004-12-31.nc 2005/discharge_dailyTot_output_2005-01-01_to_2005-12-31.nc 2006/discharge_dailyTot_output_2006-01-01_to_2006-12-31.nc 2007/discharge_dailyTot_output_2007-01-01_to_2007-12-31.nc 2008/discharge_dailyTot_output_2008-01-01_to_2008-12-31.nc 2009/discharge_dailyTot_output_2009-01-01_to_2009-12-31.nc 2010/discharge_dailyTot_output_2010-01-01_to_2010-12-31.nc 2011/discharge_dailyTot_output_2011-01-01_to_2011-12-31.nc 2012/discharge_dailyTot_output_2012-01-01_to_2012-12-31.nc 2013/discharge_dailyTot_output_2013-01-01_to_2013-12-31.nc 2014/discharge_dailyTot_output_2014-01-01_to_2014-12-31.nc 2015/discharge_dailyTot_output_2015-01-01_to_2015-12-31.nc 2016/discharge_dailyTot_output_2016-01-01_to_2016-12-31.nc 2017/discharge_dailyTot_output_2017-01-01_to_2017-12-31.nc 2018/discharge_dailyTot_output_2018-01-01_to_2018-12-31.nc 2019/discharge_dailyTot_output_2019-01-01_to_2019-12-31.nc discharge_dailyTot_output_1980-2019.nc\n",
       "    institution: Department of Physical Geography, Utrecht University\n",
       "    title: DynQual Output (run coupled with PCR-GLOBWB2)\n",
       "    description: Example setup for Rhine with 5 arc-min resolution, daily timestep (Edward R. Jones)\n",
       "    CDO: Climate Data Operators version 1.9.8 (https://mpimet.mpg.de/cdo)\n",
       "    dimensions(sizes): lon(216), lat(144), time_old(14244)\n",
       "    variables(dimensions): float64 time(time_old), float32 lon(lon), float32 lat(lat), float32 discharge(time_old, lat, lon)\n",
       "    groups: "
      ]
     },
     "execution_count": 10,
     "metadata": {},
     "output_type": "execute_result"
    }
   ],
   "source": [
    "ds"
   ]
  },
  {
   "cell_type": "code",
   "execution_count": 6,
   "id": "a68926d2-f9fe-492c-94a3-29320d2f4227",
   "metadata": {},
   "outputs": [
    {
     "ename": "TypeError",
     "evalue": "'netCDF4._netCDF4.Dataset' object does not support item assignment",
     "output_type": "error",
     "traceback": [
      "\u001b[0;31m---------------------------------------------------------------------------\u001b[0m",
      "\u001b[0;31mTypeError\u001b[0m                                 Traceback (most recent call last)",
      "Cell \u001b[0;32mIn[6], line 1\u001b[0m\n\u001b[0;32m----> 1\u001b[0m \u001b[43mds\u001b[49m\u001b[43m[\u001b[49m\u001b[38;5;124;43m'\u001b[39;49m\u001b[38;5;124;43mtime\u001b[39;49m\u001b[38;5;124;43m'\u001b[39;49m\u001b[43m]\u001b[49m \u001b[38;5;241m=\u001b[39m [\u001b[38;5;241m29230\u001b[39m\u001b[38;5;241m+\u001b[39mi \u001b[38;5;28;01mfor\u001b[39;00m i \u001b[38;5;129;01min\u001b[39;00m \u001b[38;5;28mrange\u001b[39m(\u001b[38;5;241m14244\u001b[39m)]\n",
      "\u001b[0;31mTypeError\u001b[0m: 'netCDF4._netCDF4.Dataset' object does not support item assignment"
     ]
    }
   ],
   "source": [
    "ds['time'] = [29220+i for i in range(14244)]"
   ]
  },
  {
   "cell_type": "code",
   "execution_count": 7,
   "id": "6d328a53-a119-4907-a734-f018c1f60745",
   "metadata": {},
   "outputs": [],
   "source": [
    "ds['time'][:][0]=29220"
   ]
  },
  {
   "cell_type": "code",
   "execution_count": 8,
   "id": "75aa1b15-99d9-45f8-ae85-8384205a2624",
   "metadata": {},
   "outputs": [
    {
     "data": {
      "text/plain": [
       "29234.0"
      ]
     },
     "execution_count": 8,
     "metadata": {},
     "output_type": "execute_result"
    }
   ],
   "source": [
    "ds['time'][:][0]"
   ]
  },
  {
   "cell_type": "code",
   "execution_count": 16,
   "id": "3effcffc-9d01-4438-b77e-a5891f5e2260",
   "metadata": {},
   "outputs": [
    {
     "ename": "RuntimeError",
     "evalue": "NetCDF: String match to name in use",
     "output_type": "error",
     "traceback": [
      "\u001b[0;31m---------------------------------------------------------------------------\u001b[0m",
      "\u001b[0;31mRuntimeError\u001b[0m                              Traceback (most recent call last)",
      "Cell \u001b[0;32mIn[16], line 1\u001b[0m\n\u001b[0;32m----> 1\u001b[0m \u001b[43mds\u001b[49m\u001b[38;5;241;43m.\u001b[39;49m\u001b[43mrenameDimension\u001b[49m\u001b[43m(\u001b[49m\u001b[38;5;124;43m'\u001b[39;49m\u001b[38;5;124;43mtime_old\u001b[39;49m\u001b[38;5;124;43m'\u001b[39;49m\u001b[43m,\u001b[49m\u001b[43m \u001b[49m\u001b[38;5;124;43m'\u001b[39;49m\u001b[38;5;124;43mtime\u001b[39;49m\u001b[38;5;124;43m'\u001b[39;49m\u001b[43m)\u001b[49m\n",
      "File \u001b[0;32msrc/netCDF4/_netCDF4.pyx:2731\u001b[0m, in \u001b[0;36mnetCDF4._netCDF4.Dataset.renameDimension\u001b[0;34m()\u001b[0m\n",
      "File \u001b[0;32msrc/netCDF4/_netCDF4.pyx:2028\u001b[0m, in \u001b[0;36mnetCDF4._netCDF4._ensure_nc_success\u001b[0;34m()\u001b[0m\n",
      "\u001b[0;31mRuntimeError\u001b[0m: NetCDF: String match to name in use"
     ]
    }
   ],
   "source": [
    "ds.renameDimension('time_old', 'time')"
   ]
  },
  {
   "cell_type": "code",
   "execution_count": 12,
   "id": "2827f968-f392-4025-8c2a-66b33beb3607",
   "metadata": {},
   "outputs": [],
   "source": [
    "times  = ds.createDimension('time', None)"
   ]
  },
  {
   "cell_type": "code",
   "execution_count": 14,
   "id": "580b6828-ef3b-4289-8764-61972cf70090",
   "metadata": {},
   "outputs": [
    {
     "ename": "RuntimeError",
     "evalue": "NetCDF: String match to name in use",
     "output_type": "error",
     "traceback": [
      "\u001b[0;31m---------------------------------------------------------------------------\u001b[0m",
      "\u001b[0;31mRuntimeError\u001b[0m                              Traceback (most recent call last)",
      "Cell \u001b[0;32mIn[14], line 1\u001b[0m\n\u001b[0;32m----> 1\u001b[0m times  \u001b[38;5;241m=\u001b[39m \u001b[43mds\u001b[49m\u001b[38;5;241;43m.\u001b[39;49m\u001b[43mcreateVariable\u001b[49m\u001b[43m(\u001b[49m\u001b[38;5;124;43m'\u001b[39;49m\u001b[38;5;124;43mtime\u001b[39;49m\u001b[38;5;124;43m'\u001b[39;49m\u001b[43m,\u001b[49m\u001b[43m \u001b[49m\u001b[38;5;124;43m'\u001b[39;49m\u001b[38;5;124;43mf8\u001b[39;49m\u001b[38;5;124;43m'\u001b[39;49m\u001b[43m,\u001b[49m\u001b[43m \u001b[49m\u001b[43m(\u001b[49m\u001b[38;5;124;43m'\u001b[39;49m\u001b[38;5;124;43mtime\u001b[39;49m\u001b[38;5;124;43m'\u001b[39;49m\u001b[43m,\u001b[49m\u001b[43m)\u001b[49m\u001b[43m)\u001b[49m \n",
      "File \u001b[0;32msrc/netCDF4/_netCDF4.pyx:2962\u001b[0m, in \u001b[0;36mnetCDF4._netCDF4.Dataset.createVariable\u001b[0;34m()\u001b[0m\n",
      "File \u001b[0;32msrc/netCDF4/_netCDF4.pyx:4193\u001b[0m, in \u001b[0;36mnetCDF4._netCDF4.Variable.__init__\u001b[0;34m()\u001b[0m\n",
      "File \u001b[0;32msrc/netCDF4/_netCDF4.pyx:2028\u001b[0m, in \u001b[0;36mnetCDF4._netCDF4._ensure_nc_success\u001b[0;34m()\u001b[0m\n",
      "\u001b[0;31mRuntimeError\u001b[0m: NetCDF: String match to name in use"
     ]
    }
   ],
   "source": [
    "times  = ds.createVariable('time', 'f8', ('time',)) "
   ]
  },
  {
   "cell_type": "code",
   "execution_count": 19,
   "id": "ef45ec9e-d2ee-4e98-81fb-47bb76b251ff",
   "metadata": {},
   "outputs": [],
   "source": [
    "time =ds.createDimension(\"time_new\", 14244) #time"
   ]
  },
  {
   "cell_type": "code",
   "execution_count": null,
   "id": "8c631c61-e79e-4b8f-a33f-f963a62bef36",
   "metadata": {},
   "outputs": [],
   "source": []
  }
 ],
 "metadata": {
  "kernelspec": {
   "display_name": "Python 3 (ipykernel)",
   "language": "python",
   "name": "python3"
  },
  "language_info": {
   "codemirror_mode": {
    "name": "ipython",
    "version": 3
   },
   "file_extension": ".py",
   "mimetype": "text/x-python",
   "name": "python",
   "nbconvert_exporter": "python",
   "pygments_lexer": "ipython3",
   "version": "3.12.4"
  }
 },
 "nbformat": 4,
 "nbformat_minor": 5
}
