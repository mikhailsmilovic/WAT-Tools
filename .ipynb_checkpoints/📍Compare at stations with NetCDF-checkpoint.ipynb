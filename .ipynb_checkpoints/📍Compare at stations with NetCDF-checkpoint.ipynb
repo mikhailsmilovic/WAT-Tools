{
 "cells": [
  {
   "cell_type": "markdown",
   "metadata": {
    "extensions": {
     "jupyter_dashboards": {
      "version": 1,
      "views": {
       "grid_default": {},
       "report_default": {
        "hidden": false
       }
      }
     }
    }
   },
   "source": [
    "### Comparing observations and simulations at stations, NetCDF4\n",
    "\n",
    "Given a list of stations in *observation_locations.xlsx* and a folder **Observations** with an Excel file for each station, we compare observations and simulations using any number of simulation runs. Figures are interactive with Plotly, and statistics are calculated.\n",
    "\n",
    "- The folder we point to contains *observation_locations.xlsx* and a folder **Observations**\n",
    "- *observations_locations.xlsx* has three columns: Station name, Latitude, Longitude\n",
    "- **Observations** holds Excel files named after the station names, ex., StationName.xlsx\n",
    "- Each StationName.xlsx Excel has two columns: Date, Observation\n",
    "\n",
    "- Each folder in user-input array **Simulation_output_folders** holds the NetCDF4 output *output_netcdf.nc* with the variable *output_varaible*.\n",
    "\n",
    "#### Player's guide:\n",
    "✔️ update the following variables/paths in the next box:\n",
    "- output netcdf (this is the name of the CWatM output file before .nc)\n",
    "- variable name\n",
    "- Simulation output folders (each containing the output output_netcdf.nc)\n",
    "- titles (for the different simulations)\n",
    "- observations folder (contains *observation_locations.xlsx* and a folder **Observations**)<br>\n",
    "\n",
    "🧰 Requires packages: pandas, plotly, netcdf4 <br>\n",
    "⏩ Run with the black and white fast-forward icon above. \n"
   ]
  },
  {
   "cell_type": "code",
   "execution_count": 1,
   "metadata": {},
   "outputs": [],
   "source": [
    "#output_netcdf = 'lakeResStorage_daily'\n",
    "#output_variable = 'lakeResStorage'\n",
    "\n",
    "output_netcdf = 'pcrglobwb_dynqual_cmip6-isimip3-w5e5_historical-reference_discharge_zambezi_daily_1980_2019_basetier1'\n",
    "output_variable = 'discharge'\n",
    "\n",
    "# Simulation folders, all holding the NetCDF4 output_netcdf.nc with the variable output_variable.\n",
    "# It is OK to have only one output folder in this array\n",
    "\"\"\"\n",
    "Simulation_output_folders = [\n",
    "    r'/Users/admin/Documents/GitHub/WAT-Tools/Examples/example_Compare_at_stations_with NetCDF/Simulations_otta/Standard_CWatM',\n",
    "    r'/Users/admin/Documents/GitHub/WAT-Tools/Examples/example_Compare_at_stations_with NetCDF/Simulations_otta/DOY_Release_curves',\n",
    "    r'/Users/admin/Documents/GitHub/WAT-Tools/Examples/example_Compare_at_stations_with NetCDF/Simulations_otta/Ratio_Release_curves'\n",
    "]\n",
    "\"\"\"\n",
    "Simulation_output_folders = [r'/Users/admin/Desktop/ETH/Discharge_comparison']\n",
    "Simulated_stations_Excel_folders = [r'/Users/admin/Desktop/ETH/Discharge_comparison/TOPWATCH outputs/zambezi_w5e5_v002_Itezhitezhi/cells']\n",
    "\n",
    "# Titles for the different simulations \n",
    "#titles = ['std CWatM', 'DOY curve', 'Ratio curve']\n",
    "titles = ['PCR-GLOBWB', 'TOPWATCH']\n",
    "\n",
    "# There is a folder called Observations inside of this folder, and a file called observations_locations.xlsx\n",
    "#observations_folder = r'/Users/admin/Documents/GitHub/WAT-Tools/Examples/example_Compare_at_stations_with NetCDF/Observations_otta'\n",
    "observations_folder = r'/Users/admin/Desktop/ETH/Discharge_comparison/Zambezi_observations'\n",
    "\n",
    "# OBSERVATIONS FOLDER STRUCTURE\n",
    "# observations_folder\n",
    "# ↵ observations_locations.xlsx\n",
    "# ↵ Observations\n",
    "#   ↵ StationName1.xlsx #two columns: Date, Observation\n",
    "#   ↵ StationName2.xlsx #two columns: Date, Observation\n",
    "#   ↵ ...\n",
    "\n",
    "search = False"
   ]
  },
  {
   "cell_type": "markdown",
   "metadata": {},
   "source": [
    "-----------------"
   ]
  },
  {
   "cell_type": "code",
   "execution_count": 2,
   "metadata": {},
   "outputs": [
    {
     "name": "stdout",
     "output_type": "stream",
     "text": [
      "Loading observations\n",
      "Loading simulations\n",
      "Loading simulations from Excel\n"
     ]
    },
    {
     "ename": "IndexError",
     "evalue": "list index out of range",
     "output_type": "error",
     "traceback": [
      "\u001b[0;31m---------------------------------------------------------------------------\u001b[0m",
      "\u001b[0;31mIndexError\u001b[0m                                Traceback (most recent call last)",
      "File \u001b[0;32m/var/folders/3t/ycjs8_jn4cg42_lvy_jb9r4c0000gq/T/ipykernel_18636/2031707370.py:22\u001b[0m\n\u001b[1;32m     15\u001b[0m RMSD, NRMSD, KGE, bias, corr, NS \u001b[38;5;241m=\u001b[39m [],[],[],[],[],[]\n\u001b[1;32m     17\u001b[0m \u001b[38;5;28;01mfor\u001b[39;00m sim \u001b[38;5;129;01min\u001b[39;00m \u001b[38;5;28mrange\u001b[39m(\u001b[38;5;28mlen\u001b[39m(Simulated_output_paths)\u001b[38;5;241m+\u001b[39m\u001b[38;5;28mlen\u001b[39m(Simulated_stations_Excel_folders)):\n\u001b[1;32m     19\u001b[0m     fig\u001b[38;5;241m.\u001b[39madd_trace(go\u001b[38;5;241m.\u001b[39mScatter(y\u001b[38;5;241m=\u001b[39mOUTPUTS_SIMULATED[sim][i],\n\u001b[1;32m     20\u001b[0m                              x\u001b[38;5;241m=\u001b[39mDATES_SIMULATED[sim],\n\u001b[1;32m     21\u001b[0m                     mode\u001b[38;5;241m=\u001b[39m\u001b[38;5;124m'\u001b[39m\u001b[38;5;124mlines\u001b[39m\u001b[38;5;124m'\u001b[39m,\n\u001b[0;32m---> 22\u001b[0m                     name\u001b[38;5;241m=\u001b[39m\u001b[43mtitles\u001b[49m\u001b[43m[\u001b[49m\u001b[43msim\u001b[49m\u001b[38;5;241;43m+\u001b[39;49m\u001b[38;5;241;43m1\u001b[39;49m\u001b[43m]\u001b[49m,\n\u001b[1;32m     23\u001b[0m                             line\u001b[38;5;241m=\u001b[39m\u001b[38;5;28mdict\u001b[39m(width\u001b[38;5;241m=\u001b[39m\u001b[38;5;241m1\u001b[39m))) \u001b[38;5;66;03m#color='#ff7f0e',\u001b[39;00m\n\u001b[1;32m     26\u001b[0m     \u001b[38;5;28;01mif\u001b[39;00m search: \n\u001b[1;32m     27\u001b[0m         \u001b[38;5;28;01mfor\u001b[39;00m search_count \u001b[38;5;129;01min\u001b[39;00m \u001b[38;5;28mrange\u001b[39m(\u001b[38;5;241m8\u001b[39m):\n",
      "\u001b[0;31mIndexError\u001b[0m: list index out of range"
     ]
    },
    {
     "ename": "IndexError",
     "evalue": "list index out of range",
     "output_type": "error",
     "traceback": [
      "\u001b[0;31m---------------------------------------------------------------------------\u001b[0m",
      "\u001b[0;31mIndexError\u001b[0m                                Traceback (most recent call last)",
      "Cell \u001b[0;32mIn[2], line 1\u001b[0m\n\u001b[0;32m----> 1\u001b[0m \u001b[43mget_ipython\u001b[49m\u001b[43m(\u001b[49m\u001b[43m)\u001b[49m\u001b[38;5;241;43m.\u001b[39;49m\u001b[43mrun_line_magic\u001b[49m\u001b[43m(\u001b[49m\u001b[38;5;124;43m'\u001b[39;49m\u001b[38;5;124;43mrun\u001b[39;49m\u001b[38;5;124;43m'\u001b[39;49m\u001b[43m,\u001b[49m\u001b[43m \u001b[49m\u001b[38;5;124;43m'\u001b[39;49m\u001b[38;5;124;43mfunctions/_functions_Compare_at_stations_with_NetCDF4.ipynb\u001b[39;49m\u001b[38;5;124;43m'\u001b[39;49m\u001b[43m)\u001b[49m\n",
      "File \u001b[0;32m/opt/miniconda3/envs/cwatm/lib/python3.12/site-packages/IPython/core/interactiveshell.py:2480\u001b[0m, in \u001b[0;36mInteractiveShell.run_line_magic\u001b[0;34m(self, magic_name, line, _stack_depth)\u001b[0m\n\u001b[1;32m   2478\u001b[0m     kwargs[\u001b[38;5;124m'\u001b[39m\u001b[38;5;124mlocal_ns\u001b[39m\u001b[38;5;124m'\u001b[39m] \u001b[38;5;241m=\u001b[39m \u001b[38;5;28mself\u001b[39m\u001b[38;5;241m.\u001b[39mget_local_scope(stack_depth)\n\u001b[1;32m   2479\u001b[0m \u001b[38;5;28;01mwith\u001b[39;00m \u001b[38;5;28mself\u001b[39m\u001b[38;5;241m.\u001b[39mbuiltin_trap:\n\u001b[0;32m-> 2480\u001b[0m     result \u001b[38;5;241m=\u001b[39m \u001b[43mfn\u001b[49m\u001b[43m(\u001b[49m\u001b[38;5;241;43m*\u001b[39;49m\u001b[43margs\u001b[49m\u001b[43m,\u001b[49m\u001b[43m \u001b[49m\u001b[38;5;241;43m*\u001b[39;49m\u001b[38;5;241;43m*\u001b[39;49m\u001b[43mkwargs\u001b[49m\u001b[43m)\u001b[49m\n\u001b[1;32m   2482\u001b[0m \u001b[38;5;66;03m# The code below prevents the output from being displayed\u001b[39;00m\n\u001b[1;32m   2483\u001b[0m \u001b[38;5;66;03m# when using magics with decorator @output_can_be_silenced\u001b[39;00m\n\u001b[1;32m   2484\u001b[0m \u001b[38;5;66;03m# when the last Python token in the expression is a ';'.\u001b[39;00m\n\u001b[1;32m   2485\u001b[0m \u001b[38;5;28;01mif\u001b[39;00m \u001b[38;5;28mgetattr\u001b[39m(fn, magic\u001b[38;5;241m.\u001b[39mMAGIC_OUTPUT_CAN_BE_SILENCED, \u001b[38;5;28;01mFalse\u001b[39;00m):\n",
      "File \u001b[0;32m/opt/miniconda3/envs/cwatm/lib/python3.12/site-packages/IPython/core/magics/execution.py:737\u001b[0m, in \u001b[0;36mExecutionMagics.run\u001b[0;34m(self, parameter_s, runner, file_finder)\u001b[0m\n\u001b[1;32m    735\u001b[0m     \u001b[38;5;28;01mwith\u001b[39;00m preserve_keys(\u001b[38;5;28mself\u001b[39m\u001b[38;5;241m.\u001b[39mshell\u001b[38;5;241m.\u001b[39muser_ns, \u001b[38;5;124m'\u001b[39m\u001b[38;5;124m__file__\u001b[39m\u001b[38;5;124m'\u001b[39m):\n\u001b[1;32m    736\u001b[0m         \u001b[38;5;28mself\u001b[39m\u001b[38;5;241m.\u001b[39mshell\u001b[38;5;241m.\u001b[39muser_ns[\u001b[38;5;124m'\u001b[39m\u001b[38;5;124m__file__\u001b[39m\u001b[38;5;124m'\u001b[39m] \u001b[38;5;241m=\u001b[39m filename\n\u001b[0;32m--> 737\u001b[0m         \u001b[38;5;28;43mself\u001b[39;49m\u001b[38;5;241;43m.\u001b[39;49m\u001b[43mshell\u001b[49m\u001b[38;5;241;43m.\u001b[39;49m\u001b[43msafe_execfile_ipy\u001b[49m\u001b[43m(\u001b[49m\u001b[43mfilename\u001b[49m\u001b[43m,\u001b[49m\u001b[43m \u001b[49m\u001b[43mraise_exceptions\u001b[49m\u001b[38;5;241;43m=\u001b[39;49m\u001b[38;5;28;43;01mTrue\u001b[39;49;00m\u001b[43m)\u001b[49m\n\u001b[1;32m    738\u001b[0m     \u001b[38;5;28;01mreturn\u001b[39;00m\n\u001b[1;32m    740\u001b[0m \u001b[38;5;66;03m# Control the response to exit() calls made by the script being run\u001b[39;00m\n",
      "File \u001b[0;32m/opt/miniconda3/envs/cwatm/lib/python3.12/site-packages/IPython/core/interactiveshell.py:3005\u001b[0m, in \u001b[0;36mInteractiveShell.safe_execfile_ipy\u001b[0;34m(self, fname, shell_futures, raise_exceptions)\u001b[0m\n\u001b[1;32m   3003\u001b[0m result \u001b[38;5;241m=\u001b[39m \u001b[38;5;28mself\u001b[39m\u001b[38;5;241m.\u001b[39mrun_cell(cell, silent\u001b[38;5;241m=\u001b[39m\u001b[38;5;28;01mTrue\u001b[39;00m, shell_futures\u001b[38;5;241m=\u001b[39mshell_futures)\n\u001b[1;32m   3004\u001b[0m \u001b[38;5;28;01mif\u001b[39;00m raise_exceptions:\n\u001b[0;32m-> 3005\u001b[0m     \u001b[43mresult\u001b[49m\u001b[38;5;241;43m.\u001b[39;49m\u001b[43mraise_error\u001b[49m\u001b[43m(\u001b[49m\u001b[43m)\u001b[49m\n\u001b[1;32m   3006\u001b[0m \u001b[38;5;28;01melif\u001b[39;00m \u001b[38;5;129;01mnot\u001b[39;00m result\u001b[38;5;241m.\u001b[39msuccess:\n\u001b[1;32m   3007\u001b[0m     \u001b[38;5;28;01mbreak\u001b[39;00m\n",
      "File \u001b[0;32m/opt/miniconda3/envs/cwatm/lib/python3.12/site-packages/IPython/core/interactiveshell.py:308\u001b[0m, in \u001b[0;36mExecutionResult.raise_error\u001b[0;34m(self)\u001b[0m\n\u001b[1;32m    306\u001b[0m     \u001b[38;5;28;01mraise\u001b[39;00m \u001b[38;5;28mself\u001b[39m\u001b[38;5;241m.\u001b[39merror_before_exec\n\u001b[1;32m    307\u001b[0m \u001b[38;5;28;01mif\u001b[39;00m \u001b[38;5;28mself\u001b[39m\u001b[38;5;241m.\u001b[39merror_in_exec \u001b[38;5;129;01mis\u001b[39;00m \u001b[38;5;129;01mnot\u001b[39;00m \u001b[38;5;28;01mNone\u001b[39;00m:\n\u001b[0;32m--> 308\u001b[0m     \u001b[38;5;28;01mraise\u001b[39;00m \u001b[38;5;28mself\u001b[39m\u001b[38;5;241m.\u001b[39merror_in_exec\n",
      "    \u001b[0;31m[... skipping hidden 1 frame]\u001b[0m\n",
      "File \u001b[0;32m/var/folders/3t/ycjs8_jn4cg42_lvy_jb9r4c0000gq/T/ipykernel_18636/2031707370.py:22\u001b[0m\n\u001b[1;32m     15\u001b[0m RMSD, NRMSD, KGE, bias, corr, NS \u001b[38;5;241m=\u001b[39m [],[],[],[],[],[]\n\u001b[1;32m     17\u001b[0m \u001b[38;5;28;01mfor\u001b[39;00m sim \u001b[38;5;129;01min\u001b[39;00m \u001b[38;5;28mrange\u001b[39m(\u001b[38;5;28mlen\u001b[39m(Simulated_output_paths)\u001b[38;5;241m+\u001b[39m\u001b[38;5;28mlen\u001b[39m(Simulated_stations_Excel_folders)):\n\u001b[1;32m     19\u001b[0m     fig\u001b[38;5;241m.\u001b[39madd_trace(go\u001b[38;5;241m.\u001b[39mScatter(y\u001b[38;5;241m=\u001b[39mOUTPUTS_SIMULATED[sim][i],\n\u001b[1;32m     20\u001b[0m                              x\u001b[38;5;241m=\u001b[39mDATES_SIMULATED[sim],\n\u001b[1;32m     21\u001b[0m                     mode\u001b[38;5;241m=\u001b[39m\u001b[38;5;124m'\u001b[39m\u001b[38;5;124mlines\u001b[39m\u001b[38;5;124m'\u001b[39m,\n\u001b[0;32m---> 22\u001b[0m                     name\u001b[38;5;241m=\u001b[39m\u001b[43mtitles\u001b[49m\u001b[43m[\u001b[49m\u001b[43msim\u001b[49m\u001b[38;5;241;43m+\u001b[39;49m\u001b[38;5;241;43m1\u001b[39;49m\u001b[43m]\u001b[49m,\n\u001b[1;32m     23\u001b[0m                             line\u001b[38;5;241m=\u001b[39m\u001b[38;5;28mdict\u001b[39m(width\u001b[38;5;241m=\u001b[39m\u001b[38;5;241m1\u001b[39m))) \u001b[38;5;66;03m#color='#ff7f0e',\u001b[39;00m\n\u001b[1;32m     26\u001b[0m     \u001b[38;5;28;01mif\u001b[39;00m search: \n\u001b[1;32m     27\u001b[0m         \u001b[38;5;28;01mfor\u001b[39;00m search_count \u001b[38;5;129;01min\u001b[39;00m \u001b[38;5;28mrange\u001b[39m(\u001b[38;5;241m8\u001b[39m):\n",
      "\u001b[0;31mIndexError\u001b[0m: list index out of range"
     ]
    }
   ],
   "source": [
    "run functions/_functions_Compare_at_stations_with_NetCDF4.ipynb"
   ]
  },
  {
   "cell_type": "code",
   "execution_count": null,
   "metadata": {},
   "outputs": [],
   "source": []
  }
 ],
 "metadata": {
  "extensions": {
   "jupyter_dashboards": {
    "activeView": "report_default",
    "version": 1,
    "views": {
     "grid_default": {
      "name": "grid",
      "type": "grid"
     },
     "report_default": {
      "name": "report",
      "type": "report"
     }
    }
   }
  },
  "kernelspec": {
   "display_name": "Python 3 (ipykernel)",
   "language": "python",
   "name": "python3"
  },
  "language_info": {
   "codemirror_mode": {
    "name": "ipython",
    "version": 3
   },
   "file_extension": ".py",
   "mimetype": "text/x-python",
   "name": "python",
   "nbconvert_exporter": "python",
   "pygments_lexer": "ipython3",
   "version": "3.12.4"
  }
 },
 "nbformat": 4,
 "nbformat_minor": 4
}
